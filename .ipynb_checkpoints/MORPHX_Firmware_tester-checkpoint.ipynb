{
 "cells": [
  {
   "cell_type": "code",
   "execution_count": 1,
   "id": "85366c80",
   "metadata": {},
   "outputs": [],
   "source": [
    "import serial\n",
    "import json\n",
    "\n"
   ]
  },
  {
   "cell_type": "code",
   "execution_count": 3,
   "id": "f25786ef",
   "metadata": {},
   "outputs": [],
   "source": [
    "ser = serial.Serial('COM10', 115200)  # replace with the correct port and baudrate\n"
   ]
  },
  {
   "cell_type": "code",
   "execution_count": 26,
   "id": "bfb376b5",
   "metadata": {},
   "outputs": [],
   "source": [
    "ser.write(str.encode(\"G91 Z5 F1 \\r\"))\n",
    "ser.write(str.encode(\"G91 Z-5 F10 \\r\"))\n",
    "# ser.write(str.encode(\"G91 Z10 F5 \\r\"))\n",
    "\n",
    "while ser.in_waiting > 0:\n",
    "    data = ser.readline()\n",
    "    print(data)"
   ]
  },
  {
   "cell_type": "code",
   "execution_count": null,
   "id": "587a25d0",
   "metadata": {},
   "outputs": [
    {
     "name": "stdout",
     "output_type": "stream",
     "text": [
      "{\"STATUS\":1,\"MOTPOS\":21.00,\"ENCVAL\":0}\n",
      "STATUS: 1\n",
      "MOTPOS: 21.0\n",
      "ENCVAL 0\n",
      "Ok\n",
      "Invalid JSON string\n"
     ]
    }
   ],
   "source": [
    "ser.reset_input_buffer()\n",
    "ser.write(str.encode(\"M414 \\r\"))\n",
    "while True:\n",
    "    if ser.in_waiting > 0:\n",
    "        data = ser.readline().decode().strip()\n",
    "        print(data)\n",
    "        try:\n",
    "            json_data = json.loads(data)\n",
    "            data_status = json_data['STATUS']\n",
    "            mot_pos = json_data['MOTPOS']\n",
    "            enc_val = json_data['ENCVAL']\n",
    "            print('STATUS:', data_status)\n",
    "            print('MOTPOS:', mot_pos)\n",
    "            print('ENCVAL', enc_val)\n",
    "        except json.JSONDecodeError:\n",
    "            print('Invalid JSON string')"
   ]
  },
  {
   "cell_type": "code",
   "execution_count": null,
   "id": "10c48269",
   "metadata": {},
   "outputs": [],
   "source": []
  }
 ],
 "metadata": {
  "kernelspec": {
   "display_name": "Python 3 (ipykernel)",
   "language": "python",
   "name": "python3"
  },
  "language_info": {
   "codemirror_mode": {
    "name": "ipython",
    "version": 3
   },
   "file_extension": ".py",
   "mimetype": "text/x-python",
   "name": "python",
   "nbconvert_exporter": "python",
   "pygments_lexer": "ipython3",
   "version": "3.9.12"
  }
 },
 "nbformat": 4,
 "nbformat_minor": 5
}
